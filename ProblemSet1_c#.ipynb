{
 "cells": [
  {
   "cell_type": "markdown",
   "id": "fb5860fb",
   "metadata": {},
   "source": [
    "# Question 1 C#\n",
    "What data type is each of the following?\n",
    "5 \n",
    "5.0\n",
    "5 > 1\n",
    "'5'\n",
    "5 * 2\n",
    "'5' * 2\n",
    "'5' + '2'\n",
    "5 / 2\n",
    "5 % 2\n",
    "{5, 2, 1}\n",
    "5 == 3\n",
    "Pi (the number)"
   ]
  },
  {
   "cell_type": "code",
   "execution_count": 75,
   "id": "50f27fe1",
   "metadata": {},
   "outputs": [
    {
     "name": "stdout",
     "output_type": "stream",
     "text": [
      "System.Int32\n",
      "System.Double\n",
      "System.Boolean\n",
      "System.Char\n",
      "System.Int32\n",
      "System.Int32\n",
      "System.Int32\n",
      "System.Int32\n",
      "System.Int32\n",
      "System.Int32[]\n",
      "System.Boolean\n",
      "System.Double\n"
     ]
    }
   ],
   "source": [
    "var value1=5;\n",
    "var value2=5.0;\n",
    "var value3=5>1;\n",
    "var value4='5';\n",
    "var value5=5*2;\n",
    "var value6='5'*2;\n",
    "var value7='5'+'2';\n",
    "var value8=5/2;\n",
    "var value9=5%2;\n",
    "int[] value10={5,2,1};\n",
    "var value11= 5==3;\n",
    "var value12= 3.14;\n",
    "System.Console.WriteLine(value1.GetType());\n",
    "System.Console.WriteLine(value2.GetType());\n",
    "System.Console.WriteLine(value3.GetType());\n",
    "System.Console.WriteLine(value4.GetType());\n",
    "System.Console.WriteLine(value5.GetType());\n",
    "System.Console.WriteLine(value6.GetType());\n",
    "System.Console.WriteLine(value7.GetType());\n",
    "System.Console.WriteLine(value8.GetType());\n",
    "System.Console.WriteLine(value9.GetType());\n",
    "System.Console.WriteLine(value10.GetType());\n",
    "System.Console.WriteLine(value11.GetType());\n",
    "System.Console.WriteLine(value12.GetType());"
   ]
  },
  {
   "cell_type": "markdown",
   "id": "d181aa02",
   "metadata": {},
   "source": [
    "# Question 2 C#\n",
    "Write (and evaluate) C# expressions that answer these questions:\n",
    "a. How many letters are there in 'Supercalifragilisticexpialidocious'?\n",
    "b. Does 'Supercalifragilisticexpialidocious' contain 'ice' as a substring?\n",
    "c. Which of the following words is the longest: \n",
    "Supercalifragilisticexpialidocious, Honorificabilitudinitatibus, or \n",
    "Bababadalgharaghtakamminarronnkonn? \n",
    "d. Which composer comes first in the dictionary: 'Berlioz', 'Borodin', 'Brian', \n",
    "'Bartok', 'Bellini', 'Buxtehude', 'Bernstein'. Which one comes last?"
   ]
  },
  {
   "cell_type": "code",
   "execution_count": 76,
   "id": "e28c4c2e",
   "metadata": {},
   "outputs": [
    {
     "name": "stdout",
     "output_type": "stream",
     "text": [
      "Length of Supercalifragilisticexpialidociousis :34\n",
      "Given string Supercalifragilisticexpialidocious contains ice as substring :True\n",
      "The longest word among 3 words are: Supercalifragilisticexpialidocious , Bababadalgharaghtakamminarronnkonn\n",
      "First word is: Bartok\n",
      "Last word is: Buxtehude\n"
     ]
    }
   ],
   "source": [
    "String word1=\"Supercalifragilisticexpialidocious\";\n",
    "Console.WriteLine(\"Length of \"+word1+\"is :\"+word1.Length); //prints length of the string word1\n",
    "Console.WriteLine(\"Given string \"+word1+\" contains ice as substring :\"+word1.Contains(\"ice\")); //prints \"true\" if string \"ice\" is present in word1 string\n",
    "String word2=\"Honorificabilitudinitatibus\";\n",
    "String word3=\"Bababadalgharaghtakamminarronnkonn\";\n",
    "if(word1.Length>word2.Length) //checks if length of word1 is greater than word2\n",
    "{\n",
    "    if(word1.Length>word3.Length)\n",
    "    {\n",
    "        Console.WriteLine(\"The longest word among 3 words is: \"+ word1); \n",
    "    }\n",
    "    else if(word1.Length==word3.Length)\n",
    "    {\n",
    "        Console.WriteLine(\"The longest word among 3 words are: \"+ word1+\" , \"+word3);\n",
    "    }\n",
    "    else\n",
    "    {\n",
    "        Console.WriteLine(\"The longest word among 3 words is: \"+ word3);\n",
    "    }\n",
    "}\n",
    "else\n",
    "{\n",
    "    Console.WriteLine(\"The longest word among 3 words is: \"+ word2);\n",
    "}\n",
    "String[] composer={\"Berlioz\", \"Borodin\", \"Brian\", \"Bartok\", \"Bellini\", \"Buxtehude\", \"Bernstein\"};\n",
    "Array.Sort(composer);\n",
    "Console.WriteLine(\"First word is: \"+ composer[0]); // prints the composer which comes first \n",
    "Console.WriteLine(\"Last word is: \"+ composer[composer.Length-1]); // prints the composer which comes last"
   ]
  },
  {
   "cell_type": "markdown",
   "id": "7790dfab",
   "metadata": {},
   "source": [
    "# Question 3 C#\n",
    "Implement function triangleArea(a,b,c) that takes as input the lengths of the 3\n",
    "sides of a triangle and returns the area of the triangle. By Heron's formula, the area \n",
    "of a triangle with side lengths a, b, and c is\n",
    "s(s - a)(s -b)(s -c)\n",
    ", where \n",
    "s = (a+b+c)/2. \n",
    ">>> triangleArea(2,2,2)\n",
    "1.7320508075688772\n"
   ]
  },
  {
   "cell_type": "code",
   "execution_count": 83,
   "id": "21fc4730",
   "metadata": {},
   "outputs": [
    {
     "name": "stdout",
     "output_type": "stream",
     "text": [
      "Enter length of 3 sides of triangle\n",
      "Area of traingle(2,2,2): 1.7320508075688772\n"
     ]
    }
   ],
   "source": [
    "class Triangle\n",
    "{\n",
    "    public int a;\n",
    "    public int b;\n",
    "    public int c;\n",
    "    public double triangleArea(int a,int b,int c)\n",
    "    {\n",
    "        Console.WriteLine(\"Enter length of 3 sides of triangle\");\n",
    "        //int a=Convert.ToInt32(Console.ReadLine());\n",
    "        double sum,area;\n",
    "        sum=(a+b+c)/2;\n",
    "        area=(double)Math.Sqrt(sum*(sum-a)*(sum-b)*(sum-c));\n",
    "        return area;\n",
    "    }\n",
    "}\n",
    "Triangle t=new Triangle();\n",
    "t.a= Convert.ToInt32(Console.ReadLine());\n",
    "t.b= Convert.ToInt32(Console.ReadLine());\n",
    "t.c= Convert.ToInt32(Console.ReadLine());\n",
    "//t.triangleArea(a,b,c);\n",
    "Console.WriteLine(\"Area of traingle(2,2,2): \"+t.triangleArea(2,2,2));"
   ]
  },
  {
   "cell_type": "markdown",
   "id": "2d95be9b",
   "metadata": {},
   "source": [
    "# Question 4 C#\n",
    "Write a program in C# Sharp to separate odd and even integers in separate arrays. \n",
    "Go to the editor\n",
    "Test Data :\n",
    "Input the number of elements to be stored in the array :5\n",
    "Input 5 elements in the array :\n",
    "element - 0 : 25\n",
    "element - 1 : 47\n",
    "element - 2 : 42\n",
    "element - 3 : 56\n",
    "element - 4 : 32\n",
    "Expected Output:\n",
    "The Even elements are:\n",
    "42 56 32\n",
    "The Odd elements are :\n",
    "25 47\n"
   ]
  },
  {
   "cell_type": "code",
   "execution_count": 50,
   "id": "d7b01f0e",
   "metadata": {},
   "outputs": [
    {
     "name": "stdout",
     "output_type": "stream",
     "text": [
      "The Even elements are:\n",
      "42 56 32 \n",
      "The odd elements are:\n",
      "25 47 "
     ]
    }
   ],
   "source": [
    "using System;\n",
    "using System.Collections.Generic;\n",
    "int length;\n",
    "int[] arr= new int[5]{25,47,42,56,32};\n",
    "var even=new List<int>(); //declaring list for even numbers\n",
    "var odd=new List<int>(); //declaring list for odd numbers\n",
    "for(int i=0;i<arr.Length;i++)\n",
    "{\n",
    "    if(arr[i]%2==0) // if number is divisible by 2,its even number\n",
    "    {\n",
    "        even.Add(arr[i]);\n",
    "    }\n",
    "    else\n",
    "    {\n",
    "        odd.Add(arr[i]);\n",
    "    }\n",
    "}\n",
    "int[] e1=even.ToArray(); //converts list to Array\n",
    "int[] o1=odd.ToArray();\n",
    "Console.WriteLine(\"The Even elements are:\");\n",
    "for(int i=0;i<e1.Length;i++)\n",
    "{\n",
    "    Console.Write(e1[i]+\" \");\n",
    "}\n",
    "Console.WriteLine(\"\\nThe odd elements are:\");\n",
    "for(int i=0;i<o1.Length;i++)\n",
    "{\n",
    "    Console.Write(o1[i]+\" \");\n",
    "}"
   ]
  },
  {
   "cell_type": "markdown",
   "id": "4ded7708",
   "metadata": {},
   "source": [
    "# Question 5 C#\n",
    "a. Write a function inside(x,y,x1,y1,x2,y2) that returns True or False \n",
    "depending on whether the point (x,y) lies in the rectangle with lower left \n",
    "corner (x1,y1) and upper right corner (x2,y2).\n",
    ">>> inside(1,1,0,0,2,3)\n",
    "True\n",
    ">>> inside(-1,-1,0,0,2,3)\n",
    "False\n",
    "b. Use function inside() from part a. to write an expression that tests whether \n",
    "the point (1,1) lies in both of the following rectangles: one with lower left \n",
    "corner (0.3, 0.5) and upper right corner (1.1, 0.7) and the other with lower \n",
    "left corner (0.5, 0.2) and upper right corner (1.1, 2). "
   ]
  },
  {
   "cell_type": "code",
   "execution_count": 69,
   "id": "ed6486c5",
   "metadata": {},
   "outputs": [
    {
     "name": "stdout",
     "output_type": "stream",
     "text": [
      "True\n",
      "False\n",
      "False\n"
     ]
    }
   ],
   "source": [
    "class Rectangle\n",
    "{\n",
    "    public Boolean inside(double x,double y,double x1,double y1,double x2,double y2)\n",
    "    {\n",
    "        if(x1<x && y1<y)\n",
    "        {\n",
    "            if(x<x2 && y<y2)\n",
    "            {\n",
    "                return true;\n",
    "            }\n",
    "            else\n",
    "            {\n",
    "                return false;\n",
    "            }\n",
    "        }\n",
    "        else\n",
    "            return false;\n",
    "    }\n",
    "}\n",
    "Rectangle r=new Rectangle();\n",
    "Console.WriteLine(r.inside(1,1,0,0,2,3)); //prints true if (1,1) lie inside the rectangle\n",
    "Console.WriteLine(r.inside(-1,-1,0,0,2,3)); //prints false if (1,1) lie inside the rectangle\n",
    "if((r.inside(1,1,0.3,0.5,1.1,0.7)) && (r.inside(1,1,0.5,0.2,1.1,2)))\n",
    "{\n",
    "    Console.WriteLine(\"True\");\n",
    "}\n",
    "else\n",
    "{\n",
    "    Console.WriteLine(\"False\");\n",
    "}"
   ]
  },
  {
   "cell_type": "markdown",
   "id": "81fb5685",
   "metadata": {},
   "source": []
  },
  {
   "cell_type": "code",
   "execution_count": null,
   "id": "7ece5e37",
   "metadata": {},
   "outputs": [],
   "source": []
  }
 ],
 "metadata": {
  "kernelspec": {
   "display_name": ".NET (C#)",
   "language": "C#",
   "name": ".net-csharp"
  },
  "language_info": {
   "file_extension": ".cs",
   "mimetype": "text/x-csharp",
   "name": "C#",
   "pygments_lexer": "csharp",
   "version": "8.0"
  }
 },
 "nbformat": 4,
 "nbformat_minor": 5
}
