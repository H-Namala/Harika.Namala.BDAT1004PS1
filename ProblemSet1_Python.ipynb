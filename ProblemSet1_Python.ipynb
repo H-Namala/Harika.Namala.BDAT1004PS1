{
 "cells": [
  {
   "cell_type": "markdown",
   "id": "9b7abe33",
   "metadata": {},
   "source": [
    "# Question 6 Python\n",
    "16. You can turn a word into pig-Latin using the following two rules (simplified):\n",
    "• If the word starts with a consonant, move that letter to the end and append \n",
    "'ay'. For example, 'happy' becomes 'appyhay' and 'pencil' becomes 'encilpay'.\n",
    "• If the word starts with a vowel, simply append 'way' to the end of the word. \n",
    "For example, 'enter' becomes 'enterway' and 'other' becomes 'otherway' . For \n",
    "our purposes, there are 5 vowels: a, e, i, o, u (so we count y as a consonant).\n",
    "Write a function pig() that takes a word (i.e., a string) as input and returns its pig\u0002Latin form. Your function should still work if the input word contains upper case \n",
    "characters. Your output should always be lower case however. \n",
    ">>> pig('happy')\n",
    "'appyhay'\n",
    ">>> pig('Enter')\n",
    "'enterway' \n"
   ]
  },
  {
   "cell_type": "code",
   "execution_count": 1,
   "id": "d5e7d84c",
   "metadata": {},
   "outputs": [
    {
     "name": "stdout",
     "output_type": "stream",
     "text": [
      "Enter a word/string :Happy\n",
      "appyhay\n"
     ]
    }
   ],
   "source": [
    "def pig(word):\n",
    "    word=word.lower()\n",
    "    vowels=['a','e','i','o','u'] #list for vowels\n",
    "    for v in vowels:\n",
    "        if v==word[0]: #check if given i/p has 1st letter as vowel\n",
    "            output=word+\"way\"\n",
    "            return output\n",
    "        elif v=='u':\n",
    "            output=(word[1:len(word)])+word[0]+\"ay\" #using slicing and getting string from 2nd character and appending \n",
    "            return output\n",
    "\n",
    "word=input(\"Enter a word/string :\")\n",
    "print(pig(word))\n",
    "         \n",
    "    "
   ]
  },
  {
   "cell_type": "markdown",
   "id": "1924a771",
   "metadata": {},
   "source": [
    "# Question 7 Python\n",
    "File bloodtype1.txt records blood-types of patients (A, B, AB, O or OO) at a clinic. \n",
    "Write a function bldcount() that reads the file with name name and reports (i.e., \n",
    "prints) how many patients there are in each bloodtype.\n",
    ">>> bldcount('bloodtype.txt')\n",
    "There are 10 patients of blood type A.\n",
    "There is one patient of blood type B.\n",
    "There are 10 patients of blood type AB.\n",
    "There are 12 patients of blood type O.\n",
    "There are no patients of blood type OO."
   ]
  },
  {
   "cell_type": "code",
   "execution_count": 2,
   "id": "1b6de75d",
   "metadata": {},
   "outputs": [
    {
     "name": "stdout",
     "output_type": "stream",
     "text": [
      "There are 15 patients of blood type A.\n",
      "There are one patients of blood type B.\n",
      "There are 13 patients of blood type AB.\n",
      "There are 15 patients of blood type O.\n",
      "There are no patients of blood type OO.\n"
     ]
    }
   ],
   "source": [
    "from collections import Counter\n",
    "def bldcount(bloodType):\n",
    "    countList=[]\n",
    "    output=dict({'A': 0, 'B': 0, 'AB': 0, 'O': 0, 'OO': 0}) #declaring variable as dictionary\n",
    "    inFile=open(bloodType)\n",
    "    content=inFile.read()\n",
    "    countList=content.split(' ') #split the contents of file based on spaces and load into list\n",
    "    for i in countList:\n",
    "        if i in output:\n",
    "            output[i]+=1\n",
    "        else:\n",
    "            output[i]=1\n",
    "    output.pop('') #removing extra spaces\n",
    "    for bloodgroup,count in output.items():\n",
    "        print(\"There are \"+countPatients(count)+\" patients of blood type \"+bloodgroup+\".\")\n",
    "    \n",
    "def countPatients(count):\n",
    "    if count==0:\n",
    "        return 'no'\n",
    "    elif count==1:\n",
    "        return 'one'\n",
    "    elif count>1:\n",
    "        return str(count)\n",
    "        \n",
    "bloodType=open('bloodtype.txt','r'); #opens the file in read mode\n",
    "bldcount('bloodtype.txt'); #calling method bldcount\n",
    "bloodType.close()"
   ]
  },
  {
   "cell_type": "markdown",
   "id": "bfc95e70",
   "metadata": {},
   "source": [
    "# Question 8 Python\n",
    "Write a function curconv() that takes as input:\n",
    "1. a currency represented using a string (e.g., 'JPY' for the Japanese Yen or \n",
    "'EUR' for the Euro)\n",
    "2. an amount\n",
    "and then converts and returns the amount in US dollars.\n",
    ">>> curconv('EUR', 100)\n",
    "122.96544\n",
    ">>> curconv('JPY', 100)\n",
    "1.241401"
   ]
  },
  {
   "cell_type": "code",
   "execution_count": 3,
   "id": "bf1cb481",
   "metadata": {},
   "outputs": [
    {
     "name": "stdout",
     "output_type": "stream",
     "text": [
      "Enter currency type: EUR\n",
      "Enter the amount: 100\n",
      "122.96544\n"
     ]
    }
   ],
   "source": [
    "def curconv(currency,amount):\n",
    "    convertAmount=float(searchCurrency(currency))\n",
    "    finalAmout=(float(amount))*convertAmount\n",
    "    return finalAmout\n",
    "    \n",
    "def searchCurrency(currency):\n",
    "    currenList=[] #declaring list\n",
    "    currenDict=dict() #declaring dictionary\n",
    "    currencyFile=open('currencies.txt','r') #open file in read mode\n",
    "    content=currencyFile.readlines()\n",
    "    for line in content:\n",
    "        currenList+=line.split('\\t') #split file based on tab spaces\n",
    "    for i in range(0,len(currenList)):\n",
    "        if currency==currenList[i]:\n",
    "            #print(currency+currenList[i+1])\n",
    "            return currenList[i+1]\n",
    "currency=input(\"Enter currency type: \")\n",
    "amount=input(\"Enter the amount: \")\n",
    "print(curconv(currency,amount))"
   ]
  },
  {
   "cell_type": "markdown",
   "id": "99a7bb91",
   "metadata": {},
   "source": [
    "# Question 9 Python\n",
    "Each of the following will cause an exception (an error). Identify what type of \n",
    "exception each will cause.\n",
    "Trying to add incompatible variables, as in \n",
    "adding 6 + ‘a’\n",
    "Referring to the 12th item of a list that has only 10 \n",
    "items\n",
    "Using a value that is out of range for a function’s \n",
    "input, such as calling math.sqrt(-1.0)\n",
    "Using an undeclared variable, such as print(x)\n",
    "when x has not been defined \n",
    "Trying to open a file that does not exist, such as \n",
    "mistyping the file name or looking in the wrong \n",
    "directory."
   ]
  },
  {
   "cell_type": "code",
   "execution_count": null,
   "id": "4f6ef215",
   "metadata": {},
   "outputs": [],
   "source": [
    "a=6+'a' #TypeError exception\n",
    "lst=[1,2,3,4,5,6,7,8,8,9,10]\n",
    "print(lst[11]) #IndexError exception(index out of range)\n",
    "import math\n",
    "print(math.sqrt(-1,0)) ##TypeError(takes only one argument)\n",
    "print(x) #NameError('x' not defined)\n",
    "file=open('demo.txt') #FileNotFoundError (No such file/directory)"
   ]
  },
  {
   "cell_type": "markdown",
   "id": "f3a39ddd",
   "metadata": {},
   "source": [
    "# Question 10 Python\n",
    "Encryption is the process of hiding the meaning of a text by substituting letters in the \n",
    "message with other letters, according to some system. If the process is successful, no \n",
    "one but the intended recipient can understand the encrypted message. Cryptanalysis\n",
    "refers to attempts to undo the encryption, even if some details of the encryption are \n",
    "unknown (for example, if an encrypted message has been intercepted). The first step \n",
    "of cryptanalysis is often to build up a table of letter frequencies in the encrypted text. \n",
    "Assume that the string letters is already defined as \n",
    "'abcdefghijklmnopqrstuvwxyz'. Write a function called frequencies()\n",
    "that takes a string as its only parameter, and returns a list of integers, showing the \n",
    "number of times each character appears in the text. Your function may ignore any \n",
    "characters that are not in letters. \n",
    ">>> frequencies('The quick red fox got bored and went home.')\n",
    "[1, 1, 1, 3, 5, 1, 1, 2, 1, 0, 1, 0, 1, 2, 4, 0, 1, 2, 0, 2, \n",
    "1, 0, 1, 1, 0, 0]\n",
    ">>> frequencies('apple'"
   ]
  },
  {
   "cell_type": "code",
   "execution_count": 13,
   "id": "bb81b70c",
   "metadata": {},
   "outputs": [
    {
     "name": "stdout",
     "output_type": "stream",
     "text": [
      "Enter a text: The quick red fox got bored and went home.\n",
      "[1, 1, 1, 3, 5, 1, 1, 2, 1, 0, 1, 0, 1, 2, 4, 0, 1, 2, 0, 3, 1, 0, 1, 1, 0, 0]\n"
     ]
    }
   ],
   "source": [
    "import re\n",
    "def frequencies(text):\n",
    "    lettersDict={'a':0,'b':0,'c':0,'d':0,'e':0,'f':0,'g':0,'h':0,'i':0,'j':0,'k':0,'l':0,'m':0,'n':0,'o':0,'p':0,'q':0,'r':0,'s':0,'t':0,'u':0,'v':0,'w':0,'x':0,'y':0,'z':0}\n",
    "    for letter,count in lettersDict.items():\n",
    "        lettersDict[letter]=len(re.findall(letter, text.lower())) #using findall method and getting the count of alphabets in given I/p\n",
    "    output=[]\n",
    "    for letter,count in lettersDict.items():\n",
    "        output.append(count)#appending count of alphabets to list output\n",
    "    print(output)\n",
    "text=input(\"Enter a text: \")\n",
    "frequencies(text)"
   ]
  },
  {
   "cell_type": "code",
   "execution_count": null,
   "id": "8e47bbb5",
   "metadata": {},
   "outputs": [],
   "source": []
  }
 ],
 "metadata": {
  "kernelspec": {
   "display_name": "Python 3 (ipykernel)",
   "language": "python",
   "name": "python3"
  },
  "language_info": {
   "codemirror_mode": {
    "name": "ipython",
    "version": 3
   },
   "file_extension": ".py",
   "mimetype": "text/x-python",
   "name": "python",
   "nbconvert_exporter": "python",
   "pygments_lexer": "ipython3",
   "version": "3.9.7"
  }
 },
 "nbformat": 4,
 "nbformat_minor": 5
}
